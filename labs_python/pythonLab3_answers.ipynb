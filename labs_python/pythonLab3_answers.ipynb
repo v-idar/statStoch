{
 "cells": [
  {
   "cell_type": "markdown",
   "metadata": {},
   "source": [
    "Lab3\n",
    "\n",
    "1. The periodograms misses the bias in low frequency domains. \n",
    "2. The hanning window has lower height of the sidelobes. \n",
    "3. L = 90.9\n",
    "4. The difference between realizations differ a lot less between the samples\n",
    "5. Reduction in zeros and poles\n",
    "6. Variance Reduced by factor 10 we get average ~20\n",
    "\n",
    "\n",
    "7. Length of data_old = 12.0\n",
    "    Period is 144 m for new\n",
    "    Period 120 months for old\n",
    "\n",
    "    Frequencies 2.59 nHz\n",
    "    3.11 nHz\n",
    "\n",
    "\n",
    "\n",
    "8. We find the spectral peaks for the, we had trouble finding one of the peaks. Mean values\n",
    "\n",
    "9. No peak at frequency 0 easier to spot the low frequency peaks. \n",
    "\n",
    "10. 0.008 and 0.0073 fold och fs 1/månaden\n",
    "    \n",
    "\n",
    "11. fs = 256\n",
    "\n"
   ]
  }
 ],
 "metadata": {
  "language_info": {
   "name": "python"
  }
 },
 "nbformat": 4,
 "nbformat_minor": 2
}
